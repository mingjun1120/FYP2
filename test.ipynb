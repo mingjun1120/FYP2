{
 "cells": [
  {
   "cell_type": "markdown",
   "metadata": {},
   "source": [
    "# Draw Region of Interest (ROI) on an image in OpenCV with Python"
   ]
  },
  {
   "cell_type": "code",
   "execution_count": 53,
   "metadata": {},
   "outputs": [],
   "source": [
    "from matplotlib import pyplot as plt\n",
    "import cv2\n",
    "import os\n",
    "from pdf2image import convert_from_path\n",
    "from PIL import Image\n",
    "import pytesseract\n",
    "import numpy as np\n",
    "import re\n",
    "import pandas as pd"
   ]
  },
  {
   "cell_type": "code",
   "execution_count": 54,
   "metadata": {},
   "outputs": [
    {
     "data": {
      "text/plain": [
       "'c:\\\\Users\\\\Jun\\\\Desktop\\\\RDS3\\\\FYP2\\\\'"
      ]
     },
     "execution_count": 54,
     "metadata": {},
     "output_type": "execute_result"
    }
   ],
   "source": [
    "cwd_path = os.getcwd()\n",
    "cwd_path = cwd_path + '\\\\'\n",
    "cwd_path"
   ]
  },
  {
   "cell_type": "code",
   "execution_count": 55,
   "metadata": {},
   "outputs": [
    {
     "name": "stdout",
     "output_type": "stream",
     "text": [
      "+----------------------+\n",
      "| Supported PDF files: |\n",
      "+----------------------+\n",
      "| 1. BCA               |\n",
      "| 2. Mandiri           |\n",
      "| 3. Exit              |\n",
      "+----------------------+\n",
      "Bank selected: BCA\n"
     ]
    }
   ],
   "source": [
    "bank_chosen = None\n",
    "\n",
    "print('+----------------------+')\n",
    "print('| Supported PDF files: |')\n",
    "print('+----------------------+')\n",
    "print('| 1. BCA               |')\n",
    "print('| 2. Mandiri           |')\n",
    "print('| 3. Exit              |')\n",
    "print('+----------------------+')\n",
    "\n",
    "choice = int(input('Select the PDF file you want to extract now (1-3): '))\n",
    "\n",
    "if choice == 1:\n",
    "    bank_chosen = 'BCA'\n",
    "elif choice == 2:\n",
    "    bank_chosen = 'Mandiri'\n",
    "else:\n",
    "    print('Exit!')\n",
    "\n",
    "\n",
    "if bank_chosen is not None:\n",
    "    print(f'Bank selected: {bank_chosen}')"
   ]
  },
  {
   "cell_type": "code",
   "execution_count": 56,
   "metadata": {},
   "outputs": [],
   "source": [
    "# Convert PDF file to images using \"convert_from_path function\" from \"pdf2image\"\n",
    "images = convert_from_path(pdf_path = f'Data Source PDF\\{bank_chosen}.pdf', dpi=350)\n",
    "for index, img in enumerate(images):\n",
    "    img.save(f'PDF Images\\{bank_chosen}\\page{index + 1}.jpg', 'JPEG')"
   ]
  },
  {
   "cell_type": "code",
   "execution_count": 57,
   "metadata": {},
   "outputs": [
    {
     "name": "stdout",
     "output_type": "stream",
     "text": [
      "['page1.jpg', 'page2.jpg', 'page3.jpg', 'page4.jpg']\n"
     ]
    }
   ],
   "source": [
    "# Show each page of PDF file that has been converted to image\n",
    "all_pdf_pages_in_img = next(os.walk(f'{cwd_path}PDF Images\\{bank_chosen}'))[2]\n",
    "print(all_pdf_pages_in_img)"
   ]
  },
  {
   "cell_type": "code",
   "execution_count": 58,
   "metadata": {},
   "outputs": [
    {
     "name": "stdout",
     "output_type": "stream",
     "text": [
      "Image path 1: .\\PDF Images\\BCA\\page1.jpg\n",
      "Image path 2: .\\PDF Images\\BCA\\page2.jpg\n",
      "Image path 3: .\\PDF Images\\BCA\\page3.jpg\n",
      "Image path 4: .\\PDF Images\\BCA\\page4.jpg\n"
     ]
    }
   ],
   "source": [
    "# Create a dictionary to store all the image paths, each image path represents a page of the PDF file\n",
    "# Key: page number (e.g. 1, 2, 3, etc.)\n",
    "# Value: image path (e.g. .\\PDF Images\\BCA\\page1.jpg, .\\PDF Images\\BCA\\page2.jpg, etc.)\n",
    "image_path_dict = {}\n",
    "\n",
    "for index, page in enumerate(all_pdf_pages_in_img):\n",
    "    image_path_dict[index + 1] = os.path.join('.', f'PDF Images\\{bank_chosen}\\{page}')\n",
    "    print(f'Image path {index + 1}: {image_path_dict[index + 1]}')"
   ]
  },
  {
   "cell_type": "code",
   "execution_count": 59,
   "metadata": {},
   "outputs": [],
   "source": [
    "# # Read image\n",
    "# img_raw = cv2.imread(image_path_dict[2])\n",
    "# print(img_raw.shape)\n",
    "\n",
    "# # We need to keep in mind aspect ratio so the image does not look skewed or distorted. \n",
    "# # Therefore, we calculate the ratio of the new image to the old image\n",
    "# r = 578.0 / img_raw.shape[0]\n",
    "# dim = (578, int(img_raw.shape[0] * r))\n",
    "\n",
    "# # Perform the actual resizing of the image and show it\n",
    "# resized_img = cv2.resize(img_raw, dim, interpolation = cv2.INTER_AREA)\n",
    "\n",
    "# # Select ROIs function\n",
    "# ROIs = cv2.selectROIs(windowName = \"Select Rois\", img = resized_img)\n",
    "\n",
    "# # Print rectangle points of selected roi\n",
    "# print(f'Type: {type(ROIs)}')\n",
    "# print(f'{ROIs}')\n",
    "\n",
    "# for x in ROIs:\n",
    "#     # Print rectangle points of selected roi\n",
    "#     print(f'Type: {type(x)}')\n",
    "#     print(f'{x}')\n",
    "\n",
    "\n",
    "\n",
    "# # cv2.imshow('Image', resized_img)\n",
    "# cv2.waitKey(0)\n",
    "# cv2.destroyAllWindows()"
   ]
  },
  {
   "cell_type": "markdown",
   "metadata": {},
   "source": [
    "## Select Multiple ROIs"
   ]
  },
  {
   "cell_type": "code",
   "execution_count": 60,
   "metadata": {},
   "outputs": [
    {
     "name": "stdout",
     "output_type": "stream",
     "text": [
      "Original image shape: (4094, 2893, 3)\n",
      "Resized image shape: (803, 568, 3)\n",
      "ROIs for all cropped images:\n",
      "[[ 19  87 249  77]\n",
      " [302  87 250  76]\n",
      " [ 16 221 543 564]]\n"
     ]
    }
   ],
   "source": [
    "for page_num, img_path in image_path_dict.items():\n",
    "    \n",
    "    # Read image\n",
    "    img_raw = cv2.imread(img_path)\n",
    "    print(f'Original image shape: {img_raw.shape}')\n",
    "\n",
    "    # We need to keep in mind aspect ratio so the image does not look skewed or distorted. \n",
    "    # Therefore, we calculate the ratio of the new image to the old image\n",
    "    r = 568.0 / img_raw.shape[1]\n",
    "    dim = (568, int(img_raw.shape[0] * r))\n",
    "\n",
    "    # Perform the actual resizing of the image and show it\n",
    "    resized_img = cv2.resize(img_raw, dim, interpolation = cv2.INTER_AREA)\n",
    "    print(f'Resized image shape: {resized_img.shape}')\n",
    "\n",
    "    ROIs = cv2.selectROIs(windowName = \"Select Rois\", img = resized_img)\n",
    "\n",
    "    # Print rectangle points of selected roi\n",
    "    print(f'ROIs for all cropped images:\\n{ROIs}')\n",
    "\n",
    "    # \"crop_number\" variable is the counter to save image with different name\n",
    "    # Loop over every bounding box save in array \"ROIs\"\n",
    "    for crop_number, roi in enumerate(ROIs):\n",
    "        \n",
    "        # Extract the ROI coordinates and width & height\n",
    "        x, y, w, h = roi\n",
    "\n",
    "        # Crop roi from original image\n",
    "        img_crop = resized_img[y:y+h, x:x+w]\n",
    "\n",
    "        # Show cropped image\n",
    "        cv2.imshow(f\"crop{crop_number}\", img_crop)\n",
    "\n",
    "        # Save cropped image\n",
    "        cv2.imwrite(f'Crop Images\\{bank_chosen}\\Page{page_num}\\crop{crop_number + 1}.jpg', img_crop)\n",
    "\n",
    "        # Save the ROI coordinates in text file\n",
    "        if crop_number == 0 and os.path.isfile(f\"Crop Images\\{bank_chosen}\\Page{page_num}\\ROIs.txt\"): # If the file exist\n",
    "            # Clear the content in the text file\n",
    "            open(f\"Crop Images\\{bank_chosen}\\Page{page_num}\\ROIs.txt\", 'w').close()\n",
    "\n",
    "        with open(f\"Crop Images\\{bank_chosen}\\Page{page_num}\\ROIs.txt\", \"a\") as f:\n",
    "            for index, x in enumerate(roi):        \n",
    "                if index == len(roi) - 1:\n",
    "                    f.write(f'{x}')\n",
    "                    f.write('\\n')\n",
    "                else:\n",
    "                    f.write(f'{x}, ')\n",
    "\n",
    "        ROIs_lst.append(list(roi))\n",
    "\n",
    "    # Destroy window\n",
    "    cv2.waitKey(0) # Press any button to stop\n",
    "    cv2.destroyAllWindows()\n",
    "    break"
   ]
  },
  {
   "cell_type": "code",
   "execution_count": 62,
   "metadata": {},
   "outputs": [
    {
     "name": "stdout",
     "output_type": "stream",
     "text": [
      "Original image shape: (4094, 2893, 3)\n",
      "Resized image shape: (803, 568, 3)\n",
      "ROIs for all cropped images:\n",
      "[[ 19  87 249  77]\n",
      " [302  87 250  76]\n",
      " [ 16 221 543 564]]\n",
      "\n",
      "Original image shape: (4094, 2893, 3)\n",
      "Resized image shape: (803, 568, 3)\n",
      "ROIs for all cropped images:\n",
      "[[ 19  87 249  77]\n",
      " [302  87 250  76]\n",
      " [ 16 221 543 564]]\n",
      "\n",
      "Original image shape: (4094, 2893, 3)\n",
      "Resized image shape: (803, 568, 3)\n",
      "ROIs for all cropped images:\n",
      "[[ 19  87 249  77]\n",
      " [302  87 250  76]\n",
      " [ 16 221 543 564]]\n",
      "\n"
     ]
    }
   ],
   "source": [
    "for page_num, img_path in image_path_dict.items():\n",
    "    \n",
    "    if page_num > 1:\n",
    "        \n",
    "        # Read image\n",
    "        img_raw = cv2.imread(img_path)\n",
    "        print(f'Original image shape: {img_raw.shape}')\n",
    "\n",
    "        # We need to keep in mind aspect ratio so the image does not look skewed or distorted. \n",
    "        # Therefore, we calculate the ratio of the new image to the old image\n",
    "        r = 568.0 / img_raw.shape[1]\n",
    "        dim = (568, int(img_raw.shape[0] * r))\n",
    "\n",
    "        # Perform the actual resizing of the image and show it\n",
    "        resized_img = cv2.resize(img_raw, dim, interpolation = cv2.INTER_AREA)\n",
    "        print(f'Resized image shape: {resized_img.shape}')\n",
    "\n",
    "        print(f'ROIs for all cropped images:\\n{rois}\\n')\n",
    "\n",
    "        for crop_number, roi in enumerate(rois):\n",
    "            \n",
    "            # Extract the ROI coordinates and width & height\n",
    "            x, y, w, h = roi\n",
    "\n",
    "            # # Crop roi from original image\n",
    "            # img_crop = cv2.rectangle(img = resized_img, pt1 = (x, y), pt2 = (x+w, y+h), color = (0, 0, 255), thickness = 2)\n",
    "\n",
    "            # Crop roi from original image\n",
    "            img_crop = resized_img[y:y+h, x:x+w]\n",
    "\n",
    "            # Show cropped image\n",
    "            cv2.imshow(f\"crop{crop_number}\", img_crop)\n",
    "\n",
    "            # Save cropped image\n",
    "            cv2.imwrite(f'Crop Images\\{bank_chosen}\\Page{page_num}\\crop{crop_number + 1}.jpg', img_crop)\n",
    "\n",
    "            # Save the ROI coordinates in text file\n",
    "            if crop_number == 0 and os.path.isfile(f\"Crop Images\\{bank_chosen}\\Page{page_num}\\ROIs.txt\"): # If the file exist\n",
    "                # Clear the content in the text file\n",
    "                open(f\"Crop Images\\{bank_chosen}\\Page{page_num}\\ROIs.txt\", 'w').close()\n",
    "\n",
    "            with open(f\"Crop Images\\{bank_chosen}\\Page{page_num}\\ROIs.txt\", \"a\") as f:\n",
    "                for index, x in enumerate(roi):        \n",
    "                    if index == len(roi) - 1:\n",
    "                        f.write(f'{x}')\n",
    "                        f.write('\\n')\n",
    "                    else:\n",
    "                        f.write(f'{x}, ')\n",
    "\n",
    "        # Destroy window\n",
    "        cv2.waitKey(0) # Press any button to stop\n",
    "        cv2.destroyAllWindows()  "
   ]
  }
 ],
 "metadata": {
  "interpreter": {
   "hash": "9309612d8899319421027a50cbace7ee0526c0ff2a0430e0f5b9adab924d15ec"
  },
  "kernelspec": {
   "display_name": "Python 3.9.5 64-bit ('venv': venv)",
   "name": "python3"
  },
  "language_info": {
   "codemirror_mode": {
    "name": "ipython",
    "version": 3
   },
   "file_extension": ".py",
   "mimetype": "text/x-python",
   "name": "python",
   "nbconvert_exporter": "python",
   "pygments_lexer": "ipython3",
   "version": "3.9.5"
  },
  "orig_nbformat": 4
 },
 "nbformat": 4,
 "nbformat_minor": 2
}
