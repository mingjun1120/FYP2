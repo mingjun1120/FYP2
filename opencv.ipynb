{
 "cells": [
  {
   "cell_type": "code",
   "execution_count": null,
   "metadata": {},
   "outputs": [],
   "source": [
    "# !pip install pdf2image"
   ]
  },
  {
   "cell_type": "code",
   "execution_count": 2,
   "metadata": {},
   "outputs": [],
   "source": [
    "from pdf2image import convert_from_path\n",
    "import os \n",
    "from datetime import datetime\n",
    "import cv2 \n",
    "import pytesseract\n",
    "from matplotlib import pyplot as plt\n",
    "from pytesseract import Output\n"
   ]
  },
  {
   "cell_type": "code",
   "execution_count": 3,
   "metadata": {},
   "outputs": [],
   "source": [
    "outputDir = 'img/'\n",
    "poppler_path = r'C:\\Program Files\\poppler-0.68.0\\bin'\n",
    "\n",
    "def convert(file, outputDir, poppler_path):\n",
    "    outputDir = outputDir + str(datetime.now().strftime('%Y_%m_%d_%H_%M_%S')) + '/'\n",
    "    if not os.path.exists(outputDir):\n",
    "        os.makedirs(outputDir)\n",
    "        \n",
    "    pages = convert_from_path(pdf_path = file, poppler_path = poppler_path)\n",
    "    counter = 1\n",
    "    for page in pages:\n",
    "        myfile = outputDir + 'output' + str(counter) + '.jpg'\n",
    "        counter += 1\n",
    "        page.save(myfile)\n",
    "    \n",
    "    return outputDir\n",
    "    \n",
    "file = \"C:/Users/EndUser/Desktop/J2/dataExtraction/samples data/2918.pdf\"\n",
    "directory = convert(file, outputDir, poppler_path)\n"
   ]
  },
  {
   "cell_type": "code",
   "execution_count": 4,
   "metadata": {},
   "outputs": [],
   "source": [
    "def display(im_path):\n",
    "    dpi = 80\n",
    "    im_data = plt.imread(im_path)\n",
    "\n",
    "    height, width  = im_data.shape[:2]\n",
    "    \n",
    "    # What size does the figure need to be in inches to fit the image?\n",
    "    figsize = width / float(dpi), height / float(dpi)\n",
    "\n",
    "    # Create a figure of the right size with one axes that takes up the full figure\n",
    "    fig = plt.figure(figsize=figsize)\n",
    "    ax = fig.add_axes([0, 0, 1, 1])\n",
    "\n",
    "    # Hide spines, ticks, etc.\n",
    "    ax.axis('off')\n",
    "\n",
    "    # Display the image.\n",
    "    ax.imshow(im_data, cmap='gray')\n",
    "\n",
    "    plt.show()"
   ]
  },
  {
   "cell_type": "code",
   "execution_count": 5,
   "metadata": {},
   "outputs": [
    {
     "name": "stdout",
     "output_type": "stream",
     "text": [
      "img/2021_10_20_01_06_04/\n",
      "68\n"
     ]
    }
   ],
   "source": [
    "print(directory)\n",
    "list = os.listdir(directory)\n",
    "number_files = len(list)\n",
    "print(number_files)\n"
   ]
  },
  {
   "cell_type": "code",
   "execution_count": 7,
   "metadata": {},
   "outputs": [],
   "source": [
    "custom_config = r'--oem 3 --psm 1'\n",
    "pytesseract.pytesseract.tesseract_cmd = r'C:\\Program Files\\Tesseract-OCR\\tesseract.exe'\n",
    "\n",
    "file = 1\n",
    "\n",
    "while file <= number_files: \n",
    "    filename = directory + 'output' + str(file) + '.jpg'\n",
    "    img = cv2.imread(filename)\n",
    "#     display(filename)\n",
    "\n",
    "    d = pytesseract.image_to_data(img, output_type=Output.DICT)\n",
    "    # print(d.keys())\n",
    "\n",
    "    n_boxes = len(d['text'])\n",
    "    for i in range(n_boxes):\n",
    "        if int(float(d['conf'][i])) > 0:\n",
    "            (x, y, w, h) = (d['left'][i], d['top'][i], d['width'][i], d['height'][i])\n",
    "            img = cv2.rectangle(img, (x, y), (x + w, y + h), (0, 255, 0), 2)\n",
    "            \n",
    "    # WINDOW_NORMAL, WINDOW_AUTOSIZE, WND_PROP_FULLSCREEN\n",
    "#     cv2.namedWindow(\"img\", cv2.WND_PROP_FULLSCREEN)  \n",
    "    # cv2.imshow('img', img)\n",
    "\n",
    "    # k = cv2.waitKey(0)\n",
    "\n",
    "\n",
    "    # if( k == ord('s') ):\n",
    "    if file == 1: \n",
    "        newdir = directory + 'block/'\n",
    "        if not os.path.exists(newdir):\n",
    "            os.makedirs(newdir)\n",
    "\n",
    "    filename = newdir + 'output' + str(file) + '.jpg' \n",
    "\n",
    "    cv2.imwrite(filename, img)\n",
    "    file += 1 \n"
   ]
  }
 ],
 "metadata": {
  "interpreter": {
   "hash": "6088d5506a63b6550857bc7244125118b20fca02f6c66562aa896ae870d79e30"
  },
  "kernelspec": {
   "display_name": "Python 3",
   "language": "python",
   "name": "python3"
  },
  "language_info": {
   "codemirror_mode": {
    "name": "ipython",
    "version": 3
   },
   "file_extension": ".py",
   "mimetype": "text/x-python",
   "name": "python",
   "nbconvert_exporter": "python",
   "pygments_lexer": "ipython3",
   "version": "3.8.3"
  }
 },
 "nbformat": 4,
 "nbformat_minor": 2
}
